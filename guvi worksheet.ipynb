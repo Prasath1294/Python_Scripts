{
 "cells": [
  {
   "cell_type": "code",
   "execution_count": 4,
   "id": "5f978c6f",
   "metadata": {},
   "outputs": [],
   "source": [
    "def addition(x,y):\n",
    "    a=x+y\n",
    "    return a"
   ]
  },
  {
   "cell_type": "code",
   "execution_count": 5,
   "id": "d18a4d43",
   "metadata": {},
   "outputs": [
    {
     "data": {
      "text/plain": [
       "8"
      ]
     },
     "execution_count": 5,
     "metadata": {},
     "output_type": "execute_result"
    }
   ],
   "source": [
    "addition(3,5)"
   ]
  },
  {
   "cell_type": "code",
   "execution_count": null,
   "id": "a1f6a7a5",
   "metadata": {},
   "outputs": [],
   "source": [
    "1.create a fuction and add two arguments to within the braces\n",
    "2.after the indentation create a new variable a \n",
    "3.give = which is assigning operator \n",
    "4.add the argument variable as x+y\n",
    "5.return variable a\n",
    "6.call the function with the argument variable of x,y"
   ]
  },
  {
   "cell_type": "code",
   "execution_count": null,
   "id": "fd17e50e",
   "metadata": {},
   "outputs": [],
   "source": [
    "Get 3 numbers from users\n",
    "store it in memory a \n",
    "assign the numbers by adding\n",
    "call a"
   ]
  },
  {
   "cell_type": "code",
   "execution_count": 6,
   "id": "c586a599",
   "metadata": {},
   "outputs": [
    {
     "name": "stdout",
     "output_type": "stream",
     "text": [
      "enter number x : 5\n",
      "enter number y : 5\n",
      "enter number z : 5\n"
     ]
    },
    {
     "data": {
      "text/plain": [
       "15"
      ]
     },
     "execution_count": 6,
     "metadata": {},
     "output_type": "execute_result"
    }
   ],
   "source": [
    "x=int(input('enter number x : '))\n",
    "y=int(input('enter number y : '))\n",
    "z=int(input('enter number z : '))\n",
    "a=x+y+z\n",
    "a"
   ]
  },
  {
   "cell_type": "code",
   "execution_count": null,
   "id": "e4ad7db8",
   "metadata": {},
   "outputs": [],
   "source": [
    "1.Get 2 numbers from users\n",
    "2.create temp memory and allocate the first number memory\n",
    "3.swap the first numbers by allocating it to second number memory\n",
    "4.swap the second numbers by allocating it to temp memory\n",
    "5.show the swapped numbers in their respective memory"
   ]
  },
  {
   "cell_type": "code",
   "execution_count": 8,
   "id": "70390be5",
   "metadata": {},
   "outputs": [
    {
     "name": "stdout",
     "output_type": "stream",
     "text": [
      "Enter a number : 3\n",
      "Factorial of 3 is 6\n"
     ]
    }
   ],
   "source": [
    "def factorial(n):\n",
    "    if (n<0):\n",
    "        return 0\n",
    "    elif (n == 0 or n==1):\n",
    "        return 1\n",
    "    else:\n",
    "        fact=1\n",
    "        while (n>0):\n",
    "            fact *= n\n",
    "            n -= 1\n",
    "        return fact\n",
    "num=int(input(\"Enter a number : \"))\n",
    "print(\"Factorial of\",num,\"is\", factorial(num))            "
   ]
  },
  {
   "cell_type": "code",
   "execution_count": null,
   "id": "b92942b9",
   "metadata": {},
   "outputs": [],
   "source": [
    "1.get number input from user\n",
    "2.analyse the formula of factorial and apply conditions to derive the required output\n",
    "3.there are more than 2 conditions so we can apply if,elif,else condition\n",
    "    3.1.if the input number is less than 0 return 0\n",
    "    3.2.if the input number is equal to 0 or equal to 1 return 1\n",
    "    3.3.both the above condition fails pass the else condition by applying factorial formula n!=n*(n-1)*(n-2)*...1\n",
    "4.show the factorial of given number input"
   ]
  }
 ],
 "metadata": {
  "kernelspec": {
   "display_name": "Python 3 (ipykernel)",
   "language": "python",
   "name": "python3"
  },
  "language_info": {
   "codemirror_mode": {
    "name": "ipython",
    "version": 3
   },
   "file_extension": ".py",
   "mimetype": "text/x-python",
   "name": "python",
   "nbconvert_exporter": "python",
   "pygments_lexer": "ipython3",
   "version": "3.10.9"
  }
 },
 "nbformat": 4,
 "nbformat_minor": 5
}
